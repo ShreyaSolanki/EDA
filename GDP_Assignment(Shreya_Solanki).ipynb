{
 "cells": [
  {
   "cell_type": "markdown",
   "metadata": {},
   "source": [
    "##                                                                                        GDP ANALYSIS OF INDIA"
   ]
  },
  {
   "cell_type": "markdown",
   "metadata": {},
   "source": [
    "### Part I "
   ]
  },
  {
   "cell_type": "markdown",
   "metadata": {},
   "source": [
    "#### Part I-A:\n",
    "\n",
    "#### For Analysis of this part, Data I-A i.e. State-wise Gross Domestic Product (GDP) at current price on yearly basis has been used.\n"
   ]
  },
  {
   "cell_type": "code",
   "execution_count": null,
   "metadata": {},
   "outputs": [],
   "source": [
    "import pandas as pd\n",
    "import numpy as np\n",
    "import matplotlib.pyplot as plt\n",
    "from matplotlib import style\n",
    "from numpy import mean\n",
    "import seaborn as sns\n",
    "sns.set_style(\"whitegrid\")"
   ]
  },
  {
   "cell_type": "markdown",
   "metadata": {},
   "source": [
    "#### Downloading the data I-A for Part I A analysis"
   ]
  },
  {
   "cell_type": "code",
   "execution_count": null,
   "metadata": {},
   "outputs": [],
   "source": [
    "state = pd.read_csv(\"State-wise Gross Domestic Product (GDP) at current price on yearly basis.csv\")"
   ]
  },
  {
   "cell_type": "code",
   "execution_count": null,
   "metadata": {},
   "outputs": [],
   "source": [
    "state.head(7)"
   ]
  },
  {
   "cell_type": "markdown",
   "metadata": {},
   "source": [
    "#### Remove the rows: '(% Growth over the previous year)' and 'GSDP - CURRENT PRICES ( in Crore)' for the year 2016-17.\n",
    "\n"
   ]
  },
  {
   "cell_type": "code",
   "execution_count": null,
   "metadata": {},
   "outputs": [],
   "source": [
    "state = state[state.Duration != \"2016-17\"]"
   ]
  },
  {
   "cell_type": "code",
   "execution_count": null,
   "metadata": {},
   "outputs": [],
   "source": [
    "#dropping that state column from the dataframe for which all the values are NaN\n",
    "state.isna().all(axis=0)"
   ]
  },
  {
   "cell_type": "code",
   "execution_count": null,
   "metadata": {},
   "outputs": [],
   "source": [
    "# West Bengal has all the data as NaN, hence it provides no vlaue to the analysis and thus deleted from the dataset.\n",
    "state.drop(\"West Bengal1\", axis=1, inplace=True)"
   ]
  },
  {
   "cell_type": "code",
   "execution_count": null,
   "metadata": {},
   "outputs": [],
   "source": [
    "state.set_index(\"Duration\",inplace=True)\n",
    "state.head(2)"
   ]
  },
  {
   "cell_type": "markdown",
   "metadata": {},
   "source": [
    "#### Calculate the average growth of states over the duration 2013-14, 2014-15 and 2015-16 by taking the mean of the row '(% Growth over previous year)'.\n",
    "\n",
    "\n"
   ]
  },
  {
   "cell_type": "code",
   "execution_count": null,
   "metadata": {},
   "outputs": [],
   "source": [
    "# Subsetting a new dataframe from the State dataframe  consisting only the rows where Items Description column values are (% Growth over previous year) for years 2013-14 to 2015-16 , which starts from iloc 6\n",
    "percent_growth = state.iloc[6:]\n",
    "#The years for analysis are from index 7 to 9 same as iloc 1:\n",
    "#percent_growth.fillna(percent_growth.mean(),inplace=True)"
   ]
  },
  {
   "cell_type": "code",
   "execution_count": null,
   "metadata": {},
   "outputs": [],
   "source": [
    "percent_growth"
   ]
  },
  {
   "cell_type": "code",
   "execution_count": null,
   "metadata": {},
   "outputs": [],
   "source": [
    "# Mean of (% Growth over previous year) for the years 2013-14, 2014-15 and 2015-16 for all the states in a dataframe called Avg_growth\n",
    "#skipping the last column i.e. All_India GDP iloc[1:, 2:30] where 2:30 are the columns of all the states\n",
    "\n",
    "avg_growth = percent_growth.iloc[0:,:33].mean().sort_values(ascending=True)\n",
    "\n",
    "print(\"The average growth rate of all the states over the duration 2013-14, 2014-15 and 2015-16 are as follows:\\r\",avg_growth)"
   ]
  },
  {
   "cell_type": "markdown",
   "metadata": {},
   "source": [
    "#### Compare the calculated value and plot it for the states. Make appropriate transformations if necessary to plot the data. Report the average growth rates of the various states:"
   ]
  },
  {
   "cell_type": "code",
   "execution_count": null,
   "metadata": {},
   "outputs": [],
   "source": [
    "# Avg_growth is the dataframe that has the mean of (% Growth over previous year)  \n",
    "\n",
    "avg_growth.plot(kind='bar', figsize=[15,10], title='Average growth rate from 2013-14 to 2015-16')"
   ]
  },
  {
   "cell_type": "markdown",
   "metadata": {},
   "source": [
    "#### Which states have been growing consistently fast, and which ones have been struggling?"
   ]
  },
  {
   "cell_type": "code",
   "execution_count": null,
   "metadata": {},
   "outputs": [],
   "source": [
    "# the box plot shows the spread of gdp over the three years statewise\n",
    "percent_growth.plot(kind=\"box\", figsize=[45,20], title=\"yearswise growth comparison\", rot=0)"
   ]
  },
  {
   "cell_type": "markdown",
   "metadata": {},
   "source": [
    "#### From the above boxplot we can draw insight that\n",
    "* #### Mizoram , Nagaland, Jammu & Kashmir and Goa have a fast growth rate and Rajasthan, Telangana, Gujarat, Kerala, Assam, Telangana have very slow growth rate over the three years irrespective of whether they have a higher value compared to others "
   ]
  },
  {
   "cell_type": "markdown",
   "metadata": {},
   "source": [
    "\n",
    "\n",
    "### Curiosity exercise \n",
    "* #### What has been the average growth rate of your home state, and how does it compare to the national average over this duration?\n",
    "\n"
   ]
  },
  {
   "cell_type": "code",
   "execution_count": null,
   "metadata": {},
   "outputs": [],
   "source": [
    "# plotting the barchart for the yearly  percent growth of my hometown(Delhi) compared with yearly national growth (All_India GDP)\n",
    "percent_growth[[\"Delhi\", \"All_India GDP\"]].plot(kind=\"bar\", figsize=[10,10], title=\"Yearswise growth comparison of homestate with All India GDP\", colormap=\"Pastel2\")"
   ]
  },
  {
   "cell_type": "markdown",
   "metadata": {},
   "source": [
    "* #### What has been the average growth rate of your home state, and how does it compare to the national average over this duration?\n"
   ]
  },
  {
   "cell_type": "code",
   "execution_count": null,
   "metadata": {},
   "outputs": [],
   "source": [
    "# the average percent growth of my homestate in comparison with national average over the duration of 2013-14, 2014-15 and 2015-16 shows that homestate growth is slightly higher than national avergae\n",
    "percent_growth[[\"Delhi\", \"All_India GDP\"]].mean().plot(kind=\"bar\", figsize=[6,6],title=\"Average growth of my hometown, Delhi and average growth of All_Inida_GDP\")"
   ]
  },
  {
   "cell_type": "markdown",
   "metadata": {},
   "source": [
    "### Plot the total GDP of the states for the year 2015-16:\n",
    "\n"
   ]
  },
  {
   "cell_type": "code",
   "execution_count": null,
   "metadata": {},
   "outputs": [],
   "source": [
    "# the following index locations represent the GSDP of the states and national gdp over the years\n",
    "state.iloc[0:5,:]"
   ]
  },
  {
   "cell_type": "code",
   "execution_count": null,
   "metadata": {},
   "outputs": [],
   "source": [
    "# state.iloc[4,1:29] is the Duration 2015-16 for which the plot of total GSDP needs to be done\n",
    "state.iloc[4,1:33].sort_values().plot(kind=\"bar\", figsize=[10,8], title=\"Total GDP of the states for the year 2015-16\" )"
   ]
  },
  {
   "cell_type": "markdown",
   "metadata": {},
   "source": [
    "* #### The above plot consists of NaN values for many states , replacing the Nan values with mean from the previous years"
   ]
  },
  {
   "cell_type": "code",
   "execution_count": null,
   "metadata": {},
   "outputs": [],
   "source": [
    "# treating missing values: one way is to fill the Nan values with the mean of available values for the states\n",
    "gdp2015_16new = state.iloc[4,1:33].fillna(state.iloc[0:5,:].mean())"
   ]
  },
  {
   "cell_type": "code",
   "execution_count": null,
   "metadata": {},
   "outputs": [],
   "source": [
    "gdp2015_16new.sort_values().plot(kind=\"bar\", figsize=[10,8], title=\"Total GDP of the states for the year 2015-16\" )"
   ]
  },
  {
   "cell_type": "code",
   "execution_count": null,
   "metadata": {},
   "outputs": [],
   "source": [
    "# Treating missing values: Another way is to remove the NaN values for the year 2015-16 which loses the data of many states and hence less preffered\n",
    "gsdp2015_16=state.iloc[4,1:33].dropna(how ='any')\n",
    "gsdp2015_16.sort_values().plot(kind=\"bar\", figsize=[8,5], title=\"Total GDP of the states for the year 2015-16\" )"
   ]
  },
  {
   "cell_type": "markdown",
   "metadata": {},
   "source": [
    "### Identify the top-5 and the bottom-5 states based on total GDP\n"
   ]
  },
  {
   "cell_type": "code",
   "execution_count": null,
   "metadata": {},
   "outputs": [],
   "source": [
    "#Considering gsdp2015_16 dataframe which does not have the states which have NaN values for the year 2015-16 \n",
    "print(\"The top 5 states based on total gdp are:\\n\",gsdp2015_16.sort_values(ascending= False).head())"
   ]
  },
  {
   "cell_type": "code",
   "execution_count": null,
   "metadata": {},
   "outputs": [],
   "source": [
    "print(\"The bottom 5 states based on total gdp are:\\n\",gsdp2015_16.sort_values(ascending= True).head())"
   ]
  },
  {
   "cell_type": "code",
   "execution_count": null,
   "metadata": {},
   "outputs": [],
   "source": [
    "# Considering gdp2015_16fillna where NaN values were replaced by mean\n",
    "print(\"The top 5 states based on total gdp are:\\n\",gdp2015_16new.sort_values(ascending= False).head())"
   ]
  },
  {
   "cell_type": "code",
   "execution_count": null,
   "metadata": {},
   "outputs": [],
   "source": [
    "print(\"The bottom 5 states based on total gdp are:\\n\",gdp2015_16new.sort_values(ascending= True).head())"
   ]
  },
  {
   "cell_type": "markdown",
   "metadata": {},
   "source": [
    "### Part I-B:\n"
   ]
  },
  {
   "cell_type": "raw",
   "metadata": {},
   "source": [
    "import pandas as pd\n",
    "import os\n",
    "dirs = os.listdir()\n",
    "df_1=[ ]\n",
    "for items in dirs:\n",
    "    if items.find('GSVA')>0 and items.find('csv')>0:\n",
    "        i=items\n",
    "        df_temp2=pd.read_csv((i), encoding='ISO-8859-1')\n",
    "        df_temp2=df_temp2.loc[::,['S.No.','Item','2014-15']]\n",
    "        df_temp2['State']=items.split('-')[1]\n",
    "        df_1.append(df_temp2)\n",
    "mastergdp=pd.concat(df_1,axis=0, sort=False)\n",
    "mastergdp.State = mastergdp.State.str.replace('_', ' ')\n",
    "mastergdp.head(10)"
   ]
  },
  {
   "cell_type": "code",
   "execution_count": null,
   "metadata": {},
   "outputs": [],
   "source": [
    "# Reading the datasets for the part I B of the analysis \n",
    "\n",
    "ap_df = pd.read_csv(\"NAD-Andhra_Pradesh-GSVA_cur_2016-17.csv\")\n",
    "ar_df = pd.read_csv(\"NAD-Arunachal_Pradesh-GSVA_cur_2015-16.csv\")\n",
    "as_df = pd.read_csv(\"NAD-Assam-GSVA_cur_2015-16.csv\")\n",
    "bi_df = pd.read_csv(\"NAD-Bihar-GSVA_cur_2015-16.csv\")\n",
    "ch_df = pd.read_csv(\"NAD-Chhattisgarh-GSVA_cur_2016-17.csv\")\n",
    "ga_df = pd.read_csv(\"NAD-Goa-GSVA_cur_2015-16.csv\")\n",
    "gj_df = pd.read_csv(\"NAD-Gujarat-GSVA_cur_2015-16.csv\")\n",
    "hr_df = pd.read_csv(\"NAD-Haryana-GSVA_cur_2016-17.csv\")\n",
    "hp_df = pd.read_csv(\"NAD-Himachal_Pradesh-GSVA_cur_2014-15.csv\")\n",
    "jh_df = pd.read_csv(\"NAD-Jharkhand-GSVA_cur_2015-16.csv\")\n",
    "ka_df = pd.read_csv(\"NAD-Karnataka-GSVA_cur_2015-16.csv\")\n",
    "ke_df = pd.read_csv(\"NAD-Kerala-GSVA_cur_2015-16.csv\")\n",
    "mp_df = pd.read_csv(\"NAD-Madhya_Pradesh-GSVA_cur_2016-17.csv\")\n",
    "mh_df = pd.read_csv(\"NAD-Maharashtra-GSVA_cur_2014-15.csv\")\n",
    "mn_df = pd.read_csv(\"NAD-Manipur-GSVA_cur_2014-15.csv\")\n",
    "mg_df = pd.read_csv(\"NAD-Meghalaya-GSVA_cur_2016-17.csv\")\n",
    "mz_df = pd.read_csv(\"NAD-Mizoram-GSVA_cur_2014-15.csv\")\n",
    "ng_df = pd.read_csv(\"NAD-Nagaland-GSVA_cur_2014-15.csv\")\n",
    "od_df = pd.read_csv(\"NAD-Odisha-GSVA_cur_2016-17.csv\")\n",
    "pn_df = pd.read_csv(\"NAD-Punjab-GSVA_cur_2014-15.csv\")\n",
    "ra_df = pd.read_csv(\"NAD-Rajasthan-GSVA_cur_2014-15.csv\")\n",
    "si_df = pd.read_csv(\"NAD-Sikkim-GSVA_cur_2015-16.csv\")\n",
    "tn_df = pd.read_csv(\"NAD-Tamil_Nadu-GSVA_cur_2016-17.csv\")\n",
    "tl_df = pd.read_csv(\"NAD-Telangana-GSVA_cur_2016-17.csv\")\n",
    "tr_df = pd.read_csv(\"NAD-Tripura-GSVA_cur_2014-15.csv\")\n",
    "up_df = pd.read_csv(\"NAD-Uttar_Pradesh-GSVA_cur_2015-16.csv\")\n",
    "uk_df = pd.read_csv(\"NAD-Uttarakhand-GSVA_cur_2015-16.csv\")"
   ]
  },
  {
   "cell_type": "code",
   "execution_count": null,
   "metadata": {},
   "outputs": [],
   "source": [
    "# Concatenating all the dataframes of individual states into one dataframe over axis = 1 i.e. columnwise\n",
    "\n",
    "dfs = [ap_df, ar_df, as_df, bi_df, ch_df, ga_df, gj_df, hr_df, hp_df, jh_df, ka_df, ke_df, mp_df, mn_df, mh_df, mg_df, mz_df, ng_df, od_df, pn_df, ra_df, si_df, tn_df, tl_df, tr_df, up_df, uk_df]\n",
    "all_df=pd.concat(dfs,axis=1)\n",
    "#all_df.iloc[:,0:]"
   ]
  },
  {
   "cell_type": "markdown",
   "metadata": {},
   "source": [
    "## Analysis only for the duration : 2014-15. \n"
   ]
  },
  {
   "cell_type": "code",
   "execution_count": null,
   "metadata": {},
   "outputs": [],
   "source": [
    "# creating a dataframe consisting only of 2014-15 vales for all the states\n",
    "\n",
    "df_2014_15=all_df.loc[:,[\"Item\",\"2014-15\"]]\n",
    "df2014_15=df_2014_15.iloc[:,26:].set_index(\"Item\")"
   ]
  },
  {
   "cell_type": "code",
   "execution_count": null,
   "metadata": {},
   "outputs": [],
   "source": [
    "df2014_15.head(1)"
   ]
  },
  {
   "cell_type": "code",
   "execution_count": null,
   "metadata": {},
   "outputs": [],
   "source": [
    "# the columns of state dataframe consist of the names of states, so extracting those to change the column names of df2014_15 dataframe , as it's each column represents the data for all the state for the duration 2014-15\n",
    "state.columns\n",
    "# state dataframe had all 29 states but West Bengal's data was having only NaN values and hence the column was removed and state dataframe was left with 28 states.\n",
    "# in the next step , in datafame df2014_15 the names of columns are changed to the names of states by copying from the dataframme state so that the spellings remain same and only West Bengal and Jammu&Kashmir column names are skipped because that data is not present for part 1b."
   ]
  },
  {
   "cell_type": "code",
   "execution_count": null,
   "metadata": {},
   "outputs": [],
   "source": [
    "# renaming the columns as per the states dataframe in the same sequence as the dataframes have been concatenated ( Note: 27 States data is available from the website , West Bengal and Jammu & Kashmir csv is not available)\n",
    "df2014_15.columns = [\"Andhra Pradesh \",\"Arunachal Pradesh\",\"Assam\",'Bihar','Chhattisgarh','Goa','Gujarat','Haryana','Himachal Pradesh',\n",
    "                     'Jharkhand','Karnataka','Kerala','Madhya Pradesh','Maharashtra','Manipur','Meghalaya',\n",
    "                     'Mizoram','Nagaland','Odisha','Punjab','Rajasthan','Sikkim','Tamil Nadu','Telangana',\n",
    "                     'Tripura','Uttar Pradesh','Uttarakhand']"
   ]
  },
  {
   "cell_type": "code",
   "execution_count": null,
   "metadata": {},
   "outputs": [],
   "source": [
    "# the modified dataframe now is the one for analysis of all the states for the duration 2014-15\n",
    "df2014_15.head(1)"
   ]
  },
  {
   "cell_type": "markdown",
   "metadata": {},
   "source": [
    "### GDP per capita for all the states\n"
   ]
  },
  {
   "cell_type": "code",
   "execution_count": null,
   "metadata": {},
   "outputs": [],
   "source": [
    "# extracting the row for GDP of all the states from the dataframe df2014_15\n",
    "df2014_15.loc[\"Per Capita GSDP (Rs.)\"].sort_values().plot(kind=\"bar\", figsize=[10,8], title=\"GDP per Capita for all the states\")"
   ]
  },
  {
   "cell_type": "markdown",
   "metadata": {},
   "source": [
    "###  Top-5 and the bottom-5 states based on GDP per capita."
   ]
  },
  {
   "cell_type": "code",
   "execution_count": null,
   "metadata": {},
   "outputs": [],
   "source": [
    "print(\"The top 5 states based on GDP per capita are:\\n\\n\", df2014_15.loc[\"Per Capita GSDP (Rs.)\"].sort_values().nlargest(5))"
   ]
  },
  {
   "cell_type": "code",
   "execution_count": null,
   "metadata": {},
   "outputs": [],
   "source": [
    "print(\"The top 5 states based on GDP per capita are:\\n \\n\",df2014_15.loc[\"Per Capita GSDP (Rs.)\"].sort_values().nsmallest(5))"
   ]
  },
  {
   "cell_type": "markdown",
   "metadata": {},
   "source": [
    "### Find the ratio of highest per capita GDP to the lowest per capita GDP.\n"
   ]
  },
  {
   "cell_type": "code",
   "execution_count": null,
   "metadata": {},
   "outputs": [],
   "source": [
    "print(\"The state with highest gdp is:    {0} \\n\\nThe state with lowest gdp is:   {1} \\n\\nThe ratio of highest per capita GDP to the lowest per capita GDP is:    {2} \".format(df2014_15.iloc[32].nlargest(1), df2014_15.iloc[32].nsmallest(1), (df2014_15.iloc[32].max()/df2014_15.iloc[32].min())))"
   ]
  },
  {
   "cell_type": "markdown",
   "metadata": {},
   "source": [
    "### Plot the percentage contribution of primary, secondary and tertiary sectors as a percentage of total GDP for all the states."
   ]
  },
  {
   "cell_type": "code",
   "execution_count": null,
   "metadata": {},
   "outputs": [],
   "source": [
    "df2014_15.head()"
   ]
  },
  {
   "cell_type": "code",
   "execution_count": null,
   "metadata": {},
   "outputs": [],
   "source": [
    "# a series for the selected row  i.e. Per capita GSDP\n",
    "\n",
    "#print(\"The total GDP for all the states, Gross State Domestic Product is as follows:\\n\",df2014_15.loc[\"Gross State Domestic Product\"])\n"
   ]
  },
  {
   "cell_type": "code",
   "execution_count": null,
   "metadata": {},
   "outputs": [],
   "source": [
    "# calculating the percentage of primary secondary and tertiary sector to total GDP \n",
    "primary_perc=(df2014_15.loc[\"Primary\"]/df2014_15.loc[\"Gross State Domestic Product\"])*100\n"
   ]
  },
  {
   "cell_type": "code",
   "execution_count": null,
   "metadata": {},
   "outputs": [],
   "source": [
    "secondary_perc = (df2014_15.loc[\"Secondary\"]/df2014_15.loc[\"Gross State Domestic Product\"])*100"
   ]
  },
  {
   "cell_type": "code",
   "execution_count": null,
   "metadata": {},
   "outputs": [],
   "source": [
    "tertiary_perc=(df2014_15.loc[\"Tertiary\"]/df2014_15.loc[\"Gross State Domestic Product\"])*100"
   ]
  },
  {
   "cell_type": "code",
   "execution_count": null,
   "metadata": {},
   "outputs": [],
   "source": [
    "# to cancatenate the three calculated dataframes into a new dataframe\n",
    "sectors = [primary_perc,secondary_perc,tertiary_perc]\n",
    "perc_contri = pd.concat(sectors,axis=1)"
   ]
  },
  {
   "cell_type": "code",
   "execution_count": null,
   "metadata": {},
   "outputs": [],
   "source": [
    "#perc_contri is the new dataframe consisting of the percentage contribution to total GDP for all three sectors, so renaming the column names to primary secondary and tertiary respectively\n",
    "perc_contri.columns=[\"primary\",\"secondary\",\"tertiary\"]"
   ]
  },
  {
   "cell_type": "code",
   "execution_count": null,
   "metadata": {},
   "outputs": [],
   "source": [
    "# Plotting the percentage contribution of each sector to total GDP\n",
    "perc_contri.sort_values([\"tertiary\"]).plot(kind=\"bar\", figsize=[25,10], title=\"Percentage contribution of primary, secondary and tertiary sectors to the total GDP of states\", colormap='tab10')"
   ]
  },
  {
   "cell_type": "code",
   "execution_count": null,
   "metadata": {},
   "outputs": [],
   "source": [
    "# this shows which sector has the highest contribution to the GDP\n",
    "perc_contri.sum().plot(kind=\"pie\", title=\"Total contribution of each sector combined for all states to the total GDP\", autopct='%1.0f%%',colormap=\"tab10\")"
   ]
  },
  {
   "cell_type": "markdown",
   "metadata": {},
   "source": [
    "#### Categorise the states into four categories based on GDP per capita (C1, C2, C3, C4 - C1 would have the highest per capita GPD, C4 the lowest). \n",
    "* #### The quantile values are (0.20,0.5, 0.85, 1), i.e. the states lying between the 85th and the 100th percentile are in C1, those between 50th and 85th percentile are in C2 and so on."
   ]
  },
  {
   "cell_type": "code",
   "execution_count": null,
   "metadata": {},
   "outputs": [],
   "source": [
    "df2014_15.head()"
   ]
  },
  {
   "cell_type": "code",
   "execution_count": null,
   "metadata": {},
   "outputs": [],
   "source": [
    "# the df2015_15 now is to be categorised for further analysis and hence taken into a new dataframe so that it can be categorised without manipulating the previous analysis\n",
    "cat2014_15=df2014_15.copy(deep=True)"
   ]
  },
  {
   "cell_type": "code",
   "execution_count": null,
   "metadata": {},
   "outputs": [],
   "source": [
    "# add a column to the dataframe cat2014_15 which consists the details about the Item whether it is sector or subsector and others\n",
    "cat2014_15[\"Item_Type\"]=[\"Subsector\",\"Sub_Subsector\",\"Sub_Subsector\",\"Sub_Subsector\",\"Sub_Subsector\",\"Subsector\",\n",
    "               \"Sector\",\"Subsector\",\"Subsector\",\"Subsector\",\"Sector\",\n",
    "             \"Subsector\",\"Sub_Subsector\",\"Sub_Subsector\", \"Subsector\",\"Sub_Subsector\",\"Sub_Subsector\",\n",
    "               \"Sub_Subsector\",\"Sub_Subsector\",\"Sub_Subsector\",\"Sub_Subsector\",\"Sub_Subsector\",\n",
    "               \"Subsector\",\"Subsector\",\"Subsector\",\"Subsector\",\"Sector\",\n",
    "               \"GSVA\",\"Taxes\",\"Subsidies\",\"GSDP\",\"Population\",\"PerCapitaGSDP\"]"
   ]
  },
  {
   "cell_type": "code",
   "execution_count": null,
   "metadata": {},
   "outputs": [],
   "source": [
    "cat2014_15.reset_index(inplace=True)"
   ]
  },
  {
   "cell_type": "code",
   "execution_count": null,
   "metadata": {},
   "outputs": [],
   "source": [
    "# setting the two index of the dataframe, one is newly added column and other is Item\n",
    "cat2014_15.set_index([\"Item_Type\",\"Item\"],inplace=True)"
   ]
  },
  {
   "cell_type": "code",
   "execution_count": null,
   "metadata": {},
   "outputs": [],
   "source": [
    "cat2014_15.head()"
   ]
  },
  {
   "cell_type": "code",
   "execution_count": null,
   "metadata": {},
   "outputs": [],
   "source": [
    "\n",
    "# a new dataframe called category is created which has the Transpose of previously formed dataframe cat2014_15\n",
    "category=cat2014_15.T.sort_values([('PerCapitaGSDP', 'Per Capita GSDP (Rs.)')], ascending=False)"
   ]
  },
  {
   "cell_type": "code",
   "execution_count": null,
   "metadata": {},
   "outputs": [],
   "source": [
    "# in order to have the whole dataframe split into categories , it has to have multiple index\n",
    "category.index"
   ]
  },
  {
   "cell_type": "code",
   "execution_count": null,
   "metadata": {},
   "outputs": [],
   "source": [
    "# for deciding the categories based on the quantiles .20, .5, .85, 1, getting the quatile values of per capita gsdp\n",
    "df2014_15.T[\"Per Capita GSDP (Rs.)\"].quantile([.20, .5, .85,1])"
   ]
  },
  {
   "cell_type": "markdown",
   "metadata": {},
   "source": [
    "* Extracting the states which come under rach category based on quantile"
   ]
  },
  {
   "cell_type": "code",
   "execution_count": null,
   "metadata": {},
   "outputs": [],
   "source": [
    "df2014_15.T[df2014_15.T[\"Per Capita GSDP (Rs.)\"]<65187.0].index"
   ]
  },
  {
   "cell_type": "code",
   "execution_count": null,
   "metadata": {},
   "outputs": [],
   "source": [
    "df2014_15.T[(df2014_15.T[\"Per Capita GSDP (Rs.)\"]<104977.0)&  (df2014_15.T[\"Per Capita GSDP (Rs.)\"]>=65187.0)].index"
   ]
  },
  {
   "cell_type": "code",
   "execution_count": null,
   "metadata": {},
   "outputs": [],
   "source": [
    "df2014_15.T[(df2014_15.T[\"Per Capita GSDP (Rs.)\"]<153246.2) &  (df2014_15.T[\"Per Capita GSDP (Rs.)\"]>=104977.0)].index"
   ]
  },
  {
   "cell_type": "code",
   "execution_count": null,
   "metadata": {},
   "outputs": [],
   "source": [
    "df2014_15.T[df2014_15.T[\"Per Capita GSDP (Rs.)\"]>=153246.2].index"
   ]
  },
  {
   "cell_type": "code",
   "execution_count": null,
   "metadata": {},
   "outputs": [],
   "source": [
    "# according to the states falling under respective categories as extracted above, a zipped list is formed for multiindexing\n",
    "arrays = [['C1','C1','C1','C1', 'C2', 'C2','C2','C2','C2','C2','C2','C2','C2','C2', \n",
    "           'C3','C3','C3','C3','C3','C3','C3', 'C4', 'C4', 'C4', 'C4', 'C4', 'C4'],\n",
    "          ['Goa', 'Haryana', 'Kerala', 'Sikkim', 'Andhra Pradesh ', 'Arunachal Pradesh', 'Gujarat',\n",
    "       'Himachal Pradesh', 'Karnataka', 'Manipur', 'Punjab', 'Tamil Nadu',\n",
    "       'Telangana', 'Uttarakhand', 'Chhattisgarh', 'Meghalaya', 'Mizoram', 'Nagaland', 'Odisha',\n",
    "       'Rajasthan', 'Tripura', 'Bihar', 'Uttar Pradesh', 'Maharashtra', 'Assam', 'Jharkhand','Madhya Pradesh']]"
   ]
  },
  {
   "cell_type": "code",
   "execution_count": null,
   "metadata": {},
   "outputs": [],
   "source": [
    "tuples = list(zip(*arrays))"
   ]
  },
  {
   "cell_type": "code",
   "execution_count": null,
   "metadata": {},
   "outputs": [],
   "source": [
    "# tuples is a list of zipped list called arrays which consists of Category names to be sppecified to which states \n",
    "index1 = pd.MultiIndex.from_tuples(tuples, names=['Category', 'States'])\n"
   ]
  },
  {
   "cell_type": "code",
   "execution_count": null,
   "metadata": {},
   "outputs": [],
   "source": [
    "\n",
    "category.set_index(index1,inplace=True)"
   ]
  },
  {
   "cell_type": "markdown",
   "metadata": {},
   "source": [
    "#### Find the top 3/4/5 sub-sectors (such as agriculture, forestry and fishing, crops, manufacturing etc.) [not primary, secondary and tertiary] which contribute to approx. 80% of the GSDP of each category\n"
   ]
  },
  {
   "cell_type": "code",
   "execution_count": null,
   "metadata": {},
   "outputs": [],
   "source": [
    "category.loc[\"C1\"][\"GSDP\"].sum(axis=0)"
   ]
  },
  {
   "cell_type": "code",
   "execution_count": null,
   "metadata": {},
   "outputs": [],
   "source": [
    "#Calculating the percentage contribution of each subsector to the total GSDP i.e. sum og GSDP of all states of Category C1 (=101930677.0) of category C1\n",
    "#Sum of the values of each subsector of all states/sum of GSDP of all states of C1\n"
   ]
  },
  {
   "cell_type": "code",
   "execution_count": null,
   "metadata": {},
   "outputs": [],
   "source": [
    "C1=category.loc[\"C1\"][\"Subsector\"].T"
   ]
  },
  {
   "cell_type": "code",
   "execution_count": null,
   "metadata": {},
   "outputs": [],
   "source": [
    "C1[\"perc_conti_subsector_gdp\"]=(category.loc[\"C1\"][\"Subsector\"].sum(axis=0)/101930677.0)*100"
   ]
  },
  {
   "cell_type": "code",
   "execution_count": null,
   "metadata": {},
   "outputs": [],
   "source": [
    "C1[\"perc_conti_subsector_gdp\"].sort_values(ascending=False).plot(kind=\"bar\", figsize=[8,5], title= \"Percentage contribution of sub sectors to the GSDP of Category C1 \")"
   ]
  },
  {
   "cell_type": "code",
   "execution_count": null,
   "metadata": {},
   "outputs": [],
   "source": [
    "category.loc[\"C2\"][\"GSDP\"].sum(axis=0)"
   ]
  },
  {
   "cell_type": "code",
   "execution_count": null,
   "metadata": {},
   "outputs": [],
   "source": [
    "C2=category.loc[\"C2\"][\"Subsector\"].T"
   ]
  },
  {
   "cell_type": "code",
   "execution_count": null,
   "metadata": {},
   "outputs": [],
   "source": [
    "C2[\"perc_conti_subsector_gdp\"]=(category.loc[\"C2\"][\"Subsector\"].sum(axis=0)/639027294.0)*100\n"
   ]
  },
  {
   "cell_type": "code",
   "execution_count": null,
   "metadata": {},
   "outputs": [],
   "source": [
    "C2[\"perc_conti_subsector_gdp\"].sort_values(ascending=False).plot(kind=\"bar\", figsize=[8,5], title= \"Percentage contribution of sub sectors to the GSDP of Category C2 \")"
   ]
  },
  {
   "cell_type": "code",
   "execution_count": null,
   "metadata": {},
   "outputs": [],
   "source": [
    "category.loc[\"C3\"][\"GSDP\"].sum(axis=0)"
   ]
  },
  {
   "cell_type": "code",
   "execution_count": null,
   "metadata": {},
   "outputs": [],
   "source": [
    "C3=category.loc[\"C3\"][\"Subsector\"].T"
   ]
  },
  {
   "cell_type": "code",
   "execution_count": null,
   "metadata": {},
   "outputs": [],
   "source": [
    "C3[\"perc_conti_subsector_gdp\"]=(category.loc[\"C3\"][\"Subsector\"].sum(axis=0)/125319545.0)*100\n"
   ]
  },
  {
   "cell_type": "code",
   "execution_count": null,
   "metadata": {},
   "outputs": [],
   "source": [
    "C3[\"perc_conti_subsector_gdp\"].sort_values(ascending=False).plot(kind=\"bar\", x=None, y=None,figsize=[8,5], title= \"Percentage contribution of sub sectors to the GSDP of Category C3 \")"
   ]
  },
  {
   "cell_type": "code",
   "execution_count": null,
   "metadata": {},
   "outputs": [],
   "source": [
    "category.loc[\"C4\"][\"GSDP\"].sum(axis=0)"
   ]
  },
  {
   "cell_type": "code",
   "execution_count": null,
   "metadata": {},
   "outputs": [],
   "source": [
    "C4=category.loc[\"C4\"][\"Subsector\"].T"
   ]
  },
  {
   "cell_type": "code",
   "execution_count": null,
   "metadata": {},
   "outputs": [],
   "source": [
    "C4[\"perc_conti_subsector_gdp\"]=(category.loc[\"C3\"][\"Subsector\"].sum(axis=0)/233252066.0)*100\n"
   ]
  },
  {
   "cell_type": "code",
   "execution_count": null,
   "metadata": {},
   "outputs": [],
   "source": [
    "C4[\"perc_conti_subsector_gdp\"].sort_values(ascending=False).plot(kind=\"bar\", figsize=[8,5], title= \"Percentage contribution of sub sectors to the GSDP of Category C4 \")"
   ]
  },
  {
   "cell_type": "markdown",
   "metadata": {},
   "source": [
    "### Other Relevant Questions on the dataset for each category would be:\n"
   ]
  },
  {
   "cell_type": "markdown",
   "metadata": {},
   "source": [
    "* ### How does contribution of each subsector differ for states in each category?"
   ]
  },
  {
   "cell_type": "code",
   "execution_count": null,
   "metadata": {},
   "outputs": [],
   "source": [
    "explode= (0.04,0.04,0.04,0.04,0.04,0.04,0.04,0.04, 0.04,0.04,0.04)\n",
    "category.loc[\"C1\"][\"Subsector\"].T.plot(kind=\"pie\", subplots=True, figsize=[18,14], rot=0,layout=(2,2),autopct = \"%.1f\", legend=False, pctdistance=0.93, radius=0.99, explode=explode)\n",
    "plt.subplots_adjust(wspace=0.9)\n",
    "plt.show()"
   ]
  },
  {
   "cell_type": "code",
   "execution_count": null,
   "metadata": {},
   "outputs": [],
   "source": [
    "category.loc[\"C2\"][\"Subsector\"].T.plot(kind=\"pie\", subplots=True, figsize=[19,40], rot=1,layout=(5,2), legend=False, autopct = \"%.1f\", pctdistance=0.93, radius=0.99, explode=explode)\n",
    "plt.subplots_adjust(wspace=0.9)\n",
    "plt.show()"
   ]
  },
  {
   "cell_type": "code",
   "execution_count": null,
   "metadata": {},
   "outputs": [],
   "source": [
    "category.loc[\"C3\"][\"Subsector\"].T.plot(kind=\"pie\", subplots=True, figsize=[24,40], rot=1,layout=(4,2), legend=False, autopct = \"%.1f\", pctdistance=0.93, radius=0.99, explode=explode)\n",
    "plt.subplots_adjust(wspace=0.7)\n",
    "plt.show()"
   ]
  },
  {
   "cell_type": "code",
   "execution_count": null,
   "metadata": {},
   "outputs": [],
   "source": [
    "category.loc[\"C4\"][\"Subsector\"].T.plot(kind=\"pie\", subplots=True, figsize=[22,40], rot=1,layout=(4,2), legend=False)\n",
    "plt.subplots_adjust(wspace=0.7)\n",
    "plt.show()"
   ]
  },
  {
   "cell_type": "markdown",
   "metadata": {},
   "source": [
    "* ### What is the contribution of Sub-subsectors in each category to the total GDP?"
   ]
  },
  {
   "cell_type": "code",
   "execution_count": null,
   "metadata": {},
   "outputs": [],
   "source": [
    "category.loc[\"C1\"][\"Sub_Subsector\"].T.sum(axis=1).plot(kind=\"pie\", subplots=True, figsize=[10,10], rot=0, legend=False)"
   ]
  },
  {
   "cell_type": "code",
   "execution_count": null,
   "metadata": {},
   "outputs": [],
   "source": [
    "category.loc[\"C2\"][\"Sub_Subsector\"].T.sum(axis=1).plot(kind=\"pie\", subplots=True, figsize=[10,10], rot=0, legend=False)"
   ]
  },
  {
   "cell_type": "code",
   "execution_count": null,
   "metadata": {},
   "outputs": [],
   "source": [
    "category.loc[\"C3\"][\"Sub_Subsector\"].T.sum(axis=1).plot(kind=\"pie\", subplots=True, figsize=[10,10], rot=0, legend=False)"
   ]
  },
  {
   "cell_type": "code",
   "execution_count": null,
   "metadata": {},
   "outputs": [],
   "source": [
    "category.loc[\"C4\"][\"Sub_Subsector\"].T.sum(axis=1).plot(kind=\"pie\", subplots=True, figsize=[10,10], rot=0, legend=False)"
   ]
  },
  {
   "cell_type": "markdown",
   "metadata": {},
   "source": [
    "###  How does contribution of each sub-subsector differ for states in each category?"
   ]
  },
  {
   "cell_type": "code",
   "execution_count": null,
   "metadata": {},
   "outputs": [],
   "source": [
    "\n",
    "#category.loc[\"C1\"][\"Sub_Subsector\"].T.plot(kind=\"pie\", subplots=True, figsize=[20,17], rot=0,layout=(2,2), legend=False)\n",
    "#plt.subplots_adjust(wspace=.8)"
   ]
  },
  {
   "cell_type": "code",
   "execution_count": null,
   "metadata": {},
   "outputs": [],
   "source": [
    "category.loc[\"C1\"][\"Sub_Subsector\"].T.plot(kind=\"pie\", subplots=True, figsize=[20,15], rot=0,layout=(2,2), legend=False)\n",
    "plt.subplots_adjust(wspace=0.9)\n",
    "plt.show()"
   ]
  },
  {
   "cell_type": "code",
   "execution_count": null,
   "metadata": {},
   "outputs": [],
   "source": [
    "# As there are negative values we cant show a pir chart for the same\n",
    "category.loc[\"C2\"][\"Sub_Subsector\"].T.plot(kind=\"bar\", subplots=True, figsize=[28,24], rot=1,layout=(10,1), legend=False)\n"
   ]
  },
  {
   "cell_type": "code",
   "execution_count": null,
   "metadata": {},
   "outputs": [],
   "source": [
    "category.loc[\"C3\"][\"Sub_Subsector\"].T.plot(kind=\"pie\", subplots=True, figsize=[22,40], rot=1,layout=(4,2), legend=False)\n",
    "plt.subplots_adjust(wspace=0.7)\n",
    "plt.show()"
   ]
  },
  {
   "cell_type": "code",
   "execution_count": null,
   "metadata": {},
   "outputs": [],
   "source": [
    "category.loc[\"C4\"][\"Sub_Subsector\"].T.plot(kind=\"pie\", subplots=True, figsize=[22,40], rot=1,layout=(4,2), legend=False)\n",
    "plt.subplots_adjust(wspace=0.7)\n",
    "plt.show()"
   ]
  },
  {
   "cell_type": "markdown",
   "metadata": {},
   "source": [
    "### What are the suggestions for improving the GDP based on sub-subsector contribution."
   ]
  },
  {
   "cell_type": "markdown",
   "metadata": {},
   "source": [
    "Some specific Sub-subsectors which are the area of development in this category are\n",
    "\n",
    "Category C1:   \n",
    "Fishing and Aquaculture\n",
    "Forestry and logging\n",
    "Water transport\n",
    " Air transport\n",
    " Services incidental to transport\n",
    " Storage\n",
    "Communication & services related to broadcasting \n",
    "Railways\n",
    "Hotels & restaurants\n",
    "\n",
    "\n"
   ]
  },
  {
   "cell_type": "markdown",
   "metadata": {},
   "source": [
    "Category C2: \n",
    "Fishing and Aquaculture\n",
    "Forestry and logging\n",
    "Water transport\n",
    " Air transport\n",
    " Services incidental to transport\n",
    " Storage\n",
    "Railways\n",
    "Hotels & restaurants\n",
    "\n"
   ]
  },
  {
   "cell_type": "markdown",
   "metadata": {},
   "source": [
    "Category 3:\n",
    "Fishing and Aquaculture\n",
    "Water transport\n",
    " Air transport\n",
    " Services incidental to transport\n",
    " Storage\n",
    "Railways\n",
    "Hotels & restaurants\n",
    "\n",
    "\n"
   ]
  },
  {
   "cell_type": "markdown",
   "metadata": {},
   "source": [
    "Category C4:\n",
    "Fishing and Aquaculture\n",
    "Forestry and logging\n",
    "Water transport\n",
    " Air transport\n",
    " Services incidental to transport\n",
    " Storage\n",
    "Railways\n",
    "Hotels & restaurants"
   ]
  },
  {
   "cell_type": "markdown",
   "metadata": {},
   "source": [
    "### Part-II: \n",
    "* #### GDP and Education Drop-out Rates \n",
    "       In Part-I, you would have noticed that (one) way to increase per capita GDP is by shifting the distribution of GDP towards the secondary and      \n",
    "       tertiary sectors, i.e. the manufacturing and services industries. But these industries can thrive only when there is availability of educated, \n",
    "       skilled labour.\n",
    "\n",
    "\n"
   ]
  },
  {
   "cell_type": "code",
   "execution_count": null,
   "metadata": {},
   "outputs": [],
   "source": [
    "#getting the new dataset for the second part of analysis into a dataframe called dpr\n",
    "dpr = pd.read_csv(\"Data II drop-out rates data_rs_session243_au570_1.1.csv\")\n",
    "dpr.head()"
   ]
  },
  {
   "cell_type": "code",
   "execution_count": null,
   "metadata": {},
   "outputs": [],
   "source": [
    "# to compare drop rate and gdp of the year 2014_15 and of only Primary, Upper Primary and Secondary a new data frame called drop_rate i\n",
    "drop_rate=dpr[[\"Level of Education - State\",\"Primary - 2014-2015\",\"Upper Primary - 2014-2015\",\"Secondary - 2014-2015\"]]"
   ]
  },
  {
   "cell_type": "code",
   "execution_count": null,
   "metadata": {},
   "outputs": [],
   "source": [
    "drop_rate.head()"
   ]
  },
  {
   "cell_type": "code",
   "execution_count": null,
   "metadata": {},
   "outputs": [],
   "source": [
    "# deleting the rows that consists of Union Territories because there needs to be an analysis of states for GDP and dropout rate\n",
    "drop_rate.drop([0,5,7,8,9,14,18,26,35,36],inplace=True)"
   ]
  },
  {
   "cell_type": "code",
   "execution_count": null,
   "metadata": {},
   "outputs": [],
   "source": [
    "drop_rate.reset_index(inplace=True)"
   ]
  },
  {
   "cell_type": "code",
   "execution_count": null,
   "metadata": {},
   "outputs": [],
   "source": [
    "drop_rate.drop(\"index\",axis=1,inplace=True)"
   ]
  },
  {
   "cell_type": "code",
   "execution_count": null,
   "metadata": {},
   "outputs": [],
   "source": [
    "# the states name is the index, hence checking the correct order by checking the index and comparing it with df2014_15.T index which consists of sate names as index and has total gdp as the column\n",
    "drop_rate.index"
   ]
  },
  {
   "cell_type": "code",
   "execution_count": null,
   "metadata": {},
   "outputs": [],
   "source": [
    "df2014_15.T.index"
   ]
  },
  {
   "cell_type": "code",
   "execution_count": null,
   "metadata": {},
   "outputs": [],
   "source": [
    "drop_rate['Level of Education - State'].values"
   ]
  },
  {
   "cell_type": "code",
   "execution_count": null,
   "metadata": {},
   "outputs": [],
   "source": [
    "# Just to have no mismatch in of states name in the drop_rate and df2014_15 dataframes, we check the equality , the result shows 3 false which is due to different spellings yet same state names.\n",
    "drop_rate['Level of Education - State'].values==df2014_15.T.index"
   ]
  },
  {
   "cell_type": "code",
   "execution_count": null,
   "metadata": {},
   "outputs": [],
   "source": [
    "# Now,Level of Education - State can be set as index .\n",
    "drop_rate.set_index('Level of Education - State',inplace=True)"
   ]
  },
  {
   "cell_type": "code",
   "execution_count": null,
   "metadata": {},
   "outputs": [],
   "source": [
    "# taking the values of gdp per capita from df2014_15.T and adding it to drop_rate as a new column\n",
    "df2014_15.T[\"Per Capita GSDP (Rs.)\"].values"
   ]
  },
  {
   "cell_type": "code",
   "execution_count": null,
   "metadata": {},
   "outputs": [],
   "source": [
    "# add a new column name GDP with values of \"Per Capita GSDP(Rs.)\" from df2014_15.T\n",
    "drop_rate['GDP']=[104977., 112718.,  60621.,  33954.,  86860., 271793., 141263.,\n",
    "       164077., 147330.,  62091., 145141., 154778.,  62989.,  58442.,\n",
    "       152853.,  76228.,  97687.,  89607.,  73979., 126606.,  84837.,\n",
    "       240274., 146503., 139035.,  77358.,  49450., 153076.]"
   ]
  },
  {
   "cell_type": "code",
   "execution_count": null,
   "metadata": {},
   "outputs": [],
   "source": [
    "drop_rate.head()"
   ]
  },
  {
   "cell_type": "markdown",
   "metadata": {},
   "source": [
    "#### Analyse if there is any correlation of GDP per capita with dropout rates in education (primary, upper primary and secondary) for the year 2014-2015 for the states. Choose an appropriate plot to conduct this analysis.\n",
    "\n"
   ]
  },
  {
   "cell_type": "code",
   "execution_count": null,
   "metadata": {},
   "outputs": [],
   "source": [
    "# adding a new column to the dataframe drop_rate that consists of the mean of drop rates of all three\n",
    "drop_rate[\"total_droprate\"]=drop_rate.iloc[:, :3].mean(axis=1)"
   ]
  },
  {
   "cell_type": "markdown",
   "metadata": {},
   "source": [
    "#### Hereby to check the relationship between per capita gdp and the dropout rates of the three categories and total dropour rate , a pair plot to visualise the linear regression is plotted"
   ]
  },
  {
   "cell_type": "code",
   "execution_count": null,
   "metadata": {},
   "outputs": [],
   "source": [
    "drop_rate.head()"
   ]
  },
  {
   "cell_type": "code",
   "execution_count": null,
   "metadata": {},
   "outputs": [],
   "source": [
    "\n",
    "sns.pairplot(drop_rate,x_vars=[\"Primary - 2014-2015\",\"Upper Primary - 2014-2015\",\"Secondary - 2014-2015\", \"total_droprate\"], y_vars=\"GDP\", kind='reg', diag_kind='kde', height=4, markers=\"+\")"
   ]
  },
  {
   "cell_type": "markdown",
   "metadata": {},
   "source": [
    "#### Write the key insights you observe from this data:\n",
    "\n",
    "Form at least one reasonable hypothesis for the observations from the data\n"
   ]
  },
  {
   "cell_type": "markdown",
   "metadata": {},
   "source": [
    "From the above analysis and visualisation of data in the form of pairplot in seaborn we may observe the follwoing: \n",
    "1. It shows a trend of GDP is decreasing with increasing dropout rates, if not significantly, then considerably, for most of the states. \n",
    "2. Primary - 2014-2015- GDP comparison shows that:\n",
    "      - states with very high dropout rates do not have very high GDP\n",
    "      - the highest GDP is seen in states having dropout rate between 0 to 5\n",
    "      - the GDP is high as well as low even when the drop out rate is low in many states\n",
    "      - approximately 90 percent of the states lie between the dropout rate of 0 to 10 percent\n",
    "3. Upper Primary - 2014-2015\n",
    "      - with increase in dropout rate the GDP is decreasing for most of the states\n",
    "      - the highest GDP states can be observed to have a very low dropout rate i.e. 0 to 2, in this category\n",
    "      - approximately 70 percent of states lie between a droput rate of 2 to 8\n",
    "      \n",
    "4. Secondary - 2014-2015\n",
    "      - overall reduce in GDP with increasing dropout rates except for a few outliers\n",
    "      - the highest GDP lies between 10 to 15 droput rate\n",
    "      - overall very highest dropout rates ranging from 5 to 30, amongst the three categories\n",
    "5. Visualising the average of all the three category's droprates as total_droprate\n",
    "      - on an avergae the dropout rate is increasing and the GDP is not seen increasing\n",
    "It is a common pattern observed that highest GDP val;ues are corelated with lower dropout rates."
   ]
  },
  {
   "cell_type": "markdown",
   "metadata": {},
   "source": [
    "## State-wise recommendations for the area of development of subsectors:"
   ]
  },
  {
   "cell_type": "raw",
   "metadata": {},
   "source": [
    "Category C1 :\n",
    "\n",
    "Sikkim : 'Electricity, gas, water supply & other utility services , 'Mining and quarrying, 'Financial services‘, 'Trade, repair, hotels and restaurants\n",
    "Kerala: 'Electricity, gas, water supply & other utility services , Public Administration, Other services.\n",
    "Goa:   Construction, 'Transport, storage, communication & services related to broadcasting‘ and other services\n",
    "Haryana: Construction, 'Transport, storage, communication & services related to broadcasting, 'Financial services', 'Trade, repair, hotels and restaurants,  and 'Real estate, ownership of dwelling & professional services\n",
    "\n",
    "Category C2:\n",
    "\n",
    "Arunachal Pradesh: 'Electricity, gas, water supply & other utility services , 'Financial services', , 'Real estate, ownership of dwelling & professional services\n",
    "Himachal Pradesh: Electricity, gas, water supply & other utility services , Public Administration\n",
    "Karnataka:  Electricity, gas, water supply & other utility services , Public Administration, Mining and quarying\n",
    "Manipur : Electricity, gas, water supply & other utility services , Public Administration, Mining and quarying and other services.\n",
    "Uttarakhand: Electricity, gas, water supply & other utility services \n",
    "Punjab: Electricity, gas, water supply & other utility services , Public Administration\n",
    "Tamil Nadu: Electricity, gas, water supply & other utility services , Public Administration\n",
    "Andhra Pradesh : 'Electricity, gas, water supply & other utility services , 'Financial services, Mining and quarying, \n",
    "Gujarat: Financial services, Public administration\n",
    "Telangana: Focus on all other subsectors more than these three- 'Agriculture, forestry and fishing', Public administration and other services\n",
    "\n",
    "Category C3:\n",
    "\n",
    "Nagaland: 'Electricity, gas, water supply & other utility services , 'Financial services, Public administration\n",
    "'Tripura: 'Electricity, gas, water supply & other utility services , 'Financial services, Public administration,.\n",
    " 'Mizoram: Public administration, Financial services\n",
    "'Odisha: 'Electricity, gas, water supply & other utility services , 'Financial services\n",
    "'Rajasthan: 'Electricity, gas, water supply & other utility services , 'Financial services, Mining and quarying,  and Construction\n",
    " 'Meghalaya: 'Mining and quarrying', 'Manufacturing, 'Electricity, gas, water supply & other utility services , 'Financial services, 'Transport, storage, communication & services related to broadcasting\n",
    "'Chhattisgarh: 'Mining and quarrying', 'Manufacturing, 'Electricity, gas, water supply & other utility services , 'Financial services, 'Transport, storage, communication & services related to broadcasting\n",
    "\n",
    "Category C4:\n",
    "\n",
    "Jharkhand: Mining and quarying, 'Electricity, gas, water supply & other utility services , 'Financial services\n",
    "Bihar: Mining and quarying, 'Electricity, gas, water supply & other utility services , 'Financial services,\n",
    "Madhya Pradesh: Manufacturing, Financial.\n",
    "Uttar Pradesh : 'Electricity, gas, water supply & other utility services , 'Financial services, Public administration\n",
    "Maharashtra: 'Electricity, gas, water supply & other utility services , 'Financial services, Public administration and 'Transport, storage, communication & services related to broadcasting\n",
    "Assam:  'Electricity, gas, water supply & other utility services , 'Financial services, Manufacturing and 'Transport, storage, communication & services related to broadcasting\n",
    "\n",
    "\n",
    "Depending on the kind of services offered by states, those subsectors could be develped for which there are resources.\n",
    "For eg: Mining and Quarying is a subsector which can not be developed in all the states, but it has an overall very low contribution to GDP from most of the states.\n",
    "other subsectors are: pther services, road transport, Railway, electricity, water , public administration etc which are contributing low to GDP in most of the states and can thus be the \n",
    "key areas of development in all the states.\n"
   ]
  },
  {
   "cell_type": "code",
   "execution_count": null,
   "metadata": {},
   "outputs": [],
   "source": []
  },
  {
   "cell_type": "code",
   "execution_count": null,
   "metadata": {},
   "outputs": [],
   "source": []
  },
  {
   "cell_type": "code",
   "execution_count": null,
   "metadata": {},
   "outputs": [],
   "source": []
  },
  {
   "cell_type": "code",
   "execution_count": null,
   "metadata": {},
   "outputs": [],
   "source": []
  },
  {
   "cell_type": "code",
   "execution_count": null,
   "metadata": {},
   "outputs": [],
   "source": []
  },
  {
   "cell_type": "code",
   "execution_count": null,
   "metadata": {},
   "outputs": [],
   "source": []
  },
  {
   "cell_type": "code",
   "execution_count": null,
   "metadata": {},
   "outputs": [],
   "source": []
  },
  {
   "cell_type": "code",
   "execution_count": null,
   "metadata": {},
   "outputs": [],
   "source": []
  },
  {
   "cell_type": "code",
   "execution_count": null,
   "metadata": {},
   "outputs": [],
   "source": []
  },
  {
   "cell_type": "code",
   "execution_count": null,
   "metadata": {},
   "outputs": [],
   "source": []
  },
  {
   "cell_type": "code",
   "execution_count": null,
   "metadata": {},
   "outputs": [],
   "source": []
  },
  {
   "cell_type": "code",
   "execution_count": null,
   "metadata": {},
   "outputs": [],
   "source": []
  },
  {
   "cell_type": "code",
   "execution_count": null,
   "metadata": {},
   "outputs": [],
   "source": []
  },
  {
   "cell_type": "code",
   "execution_count": null,
   "metadata": {},
   "outputs": [],
   "source": []
  },
  {
   "cell_type": "code",
   "execution_count": null,
   "metadata": {},
   "outputs": [],
   "source": []
  },
  {
   "cell_type": "code",
   "execution_count": null,
   "metadata": {},
   "outputs": [],
   "source": []
  },
  {
   "cell_type": "code",
   "execution_count": null,
   "metadata": {},
   "outputs": [],
   "source": []
  },
  {
   "cell_type": "code",
   "execution_count": null,
   "metadata": {},
   "outputs": [],
   "source": []
  },
  {
   "cell_type": "code",
   "execution_count": null,
   "metadata": {},
   "outputs": [],
   "source": []
  },
  {
   "cell_type": "code",
   "execution_count": null,
   "metadata": {},
   "outputs": [],
   "source": []
  },
  {
   "cell_type": "code",
   "execution_count": null,
   "metadata": {},
   "outputs": [],
   "source": []
  },
  {
   "cell_type": "code",
   "execution_count": null,
   "metadata": {},
   "outputs": [],
   "source": []
  },
  {
   "cell_type": "code",
   "execution_count": null,
   "metadata": {},
   "outputs": [],
   "source": []
  },
  {
   "cell_type": "code",
   "execution_count": null,
   "metadata": {},
   "outputs": [],
   "source": []
  },
  {
   "cell_type": "code",
   "execution_count": null,
   "metadata": {},
   "outputs": [],
   "source": []
  },
  {
   "cell_type": "code",
   "execution_count": null,
   "metadata": {},
   "outputs": [],
   "source": []
  },
  {
   "cell_type": "code",
   "execution_count": null,
   "metadata": {},
   "outputs": [],
   "source": []
  },
  {
   "cell_type": "code",
   "execution_count": null,
   "metadata": {},
   "outputs": [],
   "source": []
  }
 ],
 "metadata": {
  "kernelspec": {
   "display_name": "Python 3",
   "language": "python",
   "name": "python3"
  },
  "language_info": {
   "codemirror_mode": {
    "name": "ipython",
    "version": 3
   },
   "file_extension": ".py",
   "mimetype": "text/x-python",
   "name": "python",
   "nbconvert_exporter": "python",
   "pygments_lexer": "ipython3",
   "version": "3.7.0"
  }
 },
 "nbformat": 4,
 "nbformat_minor": 2
}
